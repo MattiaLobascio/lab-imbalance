{
 "cells": [
  {
   "cell_type": "markdown",
   "metadata": {},
   "source": [
    "# Inbalanced Classes\n",
    "## In this lab, we are going to explore a case of imbalanced classes. \n",
    "\n",
    "\n",
    "Like we disussed in class, when we have noisy data, if we are not careful, we can end up fitting our model to the noise in the data and not the 'signal'-- the factors that actually determine the outcome. This is called overfitting, and results in good results in training, and in bad results when the model is applied to real data. Similarly, we could have a model that is too simplistic to accurately model the signal. This produces a model that doesnt work well (ever). \n"
   ]
  },
  {
   "cell_type": "markdown",
   "metadata": {},
   "source": [
    "### Note: before doing the first commit, make sure you don't include the large csv file, either by adding it to .gitignore, or by deleting it."
   ]
  },
  {
   "cell_type": "markdown",
   "metadata": {},
   "source": [
    "### First, download the data from: https://www.kaggle.com/ntnu-testimon/paysim1. Import the dataset and provide some discriptive statistics and plots. What do you think will be the important features in determining the outcome?\n",
    "### Note: don't use the entire dataset, use a sample instead, with n=100000 elements, so your computer doesn't freeze."
   ]
  },
  {
   "cell_type": "code",
   "execution_count": 1,
   "metadata": {},
   "outputs": [],
   "source": [
    "# Your code here\n",
    "import pandas as pd\n",
    "import numpy as np\n",
    "import matplotlib.pyplot as plt\n",
    "import seaborn as sns\n",
    "import scipy.stats as st\n",
    "\n",
    "from jupyterthemes import jtplot\n",
    "jtplot.style(theme=\"onedork\", context=\"notebook\", ticks=True, grid=False)"
   ]
  },
  {
   "cell_type": "code",
   "execution_count": 2,
   "metadata": {},
   "outputs": [
    {
     "data": {
      "text/html": [
       "<div>\n",
       "<style scoped>\n",
       "    .dataframe tbody tr th:only-of-type {\n",
       "        vertical-align: middle;\n",
       "    }\n",
       "\n",
       "    .dataframe tbody tr th {\n",
       "        vertical-align: top;\n",
       "    }\n",
       "\n",
       "    .dataframe thead th {\n",
       "        text-align: right;\n",
       "    }\n",
       "</style>\n",
       "<table border=\"1\" class=\"dataframe\">\n",
       "  <thead>\n",
       "    <tr style=\"text-align: right;\">\n",
       "      <th></th>\n",
       "      <th>step</th>\n",
       "      <th>type</th>\n",
       "      <th>amount</th>\n",
       "      <th>nameOrig</th>\n",
       "      <th>oldbalanceOrg</th>\n",
       "      <th>newbalanceOrig</th>\n",
       "      <th>nameDest</th>\n",
       "      <th>oldbalanceDest</th>\n",
       "      <th>newbalanceDest</th>\n",
       "      <th>isFraud</th>\n",
       "      <th>isFlaggedFraud</th>\n",
       "    </tr>\n",
       "  </thead>\n",
       "  <tbody>\n",
       "    <tr>\n",
       "      <th>5364403</th>\n",
       "      <td>375</td>\n",
       "      <td>CASH_OUT</td>\n",
       "      <td>223885.97</td>\n",
       "      <td>C947086661</td>\n",
       "      <td>224947.77</td>\n",
       "      <td>1061.79</td>\n",
       "      <td>C1834878567</td>\n",
       "      <td>253907.28</td>\n",
       "      <td>477793.26</td>\n",
       "      <td>0</td>\n",
       "      <td>0</td>\n",
       "    </tr>\n",
       "    <tr>\n",
       "      <th>2866064</th>\n",
       "      <td>227</td>\n",
       "      <td>CASH_OUT</td>\n",
       "      <td>435389.09</td>\n",
       "      <td>C1671084009</td>\n",
       "      <td>4561.80</td>\n",
       "      <td>0.00</td>\n",
       "      <td>C2078046010</td>\n",
       "      <td>989603.09</td>\n",
       "      <td>1424992.18</td>\n",
       "      <td>0</td>\n",
       "      <td>0</td>\n",
       "    </tr>\n",
       "    <tr>\n",
       "      <th>833488</th>\n",
       "      <td>41</td>\n",
       "      <td>CASH_IN</td>\n",
       "      <td>125886.35</td>\n",
       "      <td>C1964125022</td>\n",
       "      <td>28021406.63</td>\n",
       "      <td>28147292.98</td>\n",
       "      <td>C938675111</td>\n",
       "      <td>583287.81</td>\n",
       "      <td>457401.46</td>\n",
       "      <td>0</td>\n",
       "      <td>0</td>\n",
       "    </tr>\n",
       "    <tr>\n",
       "      <th>6101717</th>\n",
       "      <td>524</td>\n",
       "      <td>CASH_OUT</td>\n",
       "      <td>213050.99</td>\n",
       "      <td>C1420257700</td>\n",
       "      <td>5553.00</td>\n",
       "      <td>0.00</td>\n",
       "      <td>C1007703846</td>\n",
       "      <td>0.00</td>\n",
       "      <td>213050.99</td>\n",
       "      <td>0</td>\n",
       "      <td>0</td>\n",
       "    </tr>\n",
       "    <tr>\n",
       "      <th>5635277</th>\n",
       "      <td>396</td>\n",
       "      <td>PAYMENT</td>\n",
       "      <td>3980.27</td>\n",
       "      <td>C43043520</td>\n",
       "      <td>42495.00</td>\n",
       "      <td>38514.73</td>\n",
       "      <td>M472632178</td>\n",
       "      <td>0.00</td>\n",
       "      <td>0.00</td>\n",
       "      <td>0</td>\n",
       "      <td>0</td>\n",
       "    </tr>\n",
       "  </tbody>\n",
       "</table>\n",
       "</div>"
      ],
      "text/plain": [
       "         step      type     amount     nameOrig  oldbalanceOrg  \\\n",
       "5364403   375  CASH_OUT  223885.97   C947086661      224947.77   \n",
       "2866064   227  CASH_OUT  435389.09  C1671084009        4561.80   \n",
       "833488     41   CASH_IN  125886.35  C1964125022    28021406.63   \n",
       "6101717   524  CASH_OUT  213050.99  C1420257700        5553.00   \n",
       "5635277   396   PAYMENT    3980.27    C43043520       42495.00   \n",
       "\n",
       "         newbalanceOrig     nameDest  oldbalanceDest  newbalanceDest  isFraud  \\\n",
       "5364403         1061.79  C1834878567       253907.28       477793.26        0   \n",
       "2866064            0.00  C2078046010       989603.09      1424992.18        0   \n",
       "833488      28147292.98   C938675111       583287.81       457401.46        0   \n",
       "6101717            0.00  C1007703846            0.00       213050.99        0   \n",
       "5635277        38514.73   M472632178            0.00            0.00        0   \n",
       "\n",
       "         isFlaggedFraud  \n",
       "5364403               0  \n",
       "2866064               0  \n",
       "833488                0  \n",
       "6101717               0  \n",
       "5635277               0  "
      ]
     },
     "execution_count": 2,
     "metadata": {},
     "output_type": "execute_result"
    }
   ],
   "source": [
    "data = pd.read_csv(\"/home/mattia/Desktop/Ironhack/MODULE-3/WEEK-8/Paysim_log.csv\")\n",
    "data = data.sample(n=100000, axis=0)\n",
    "data.head()"
   ]
  },
  {
   "cell_type": "code",
   "execution_count": 3,
   "metadata": {},
   "outputs": [
    {
     "data": {
      "text/plain": [
       "(100000, 11)"
      ]
     },
     "execution_count": 3,
     "metadata": {},
     "output_type": "execute_result"
    }
   ],
   "source": [
    "data.shape"
   ]
  },
  {
   "cell_type": "code",
   "execution_count": 4,
   "metadata": {},
   "outputs": [
    {
     "data": {
      "text/plain": [
       "step              0\n",
       "type              0\n",
       "amount            0\n",
       "nameOrig          0\n",
       "oldbalanceOrg     0\n",
       "newbalanceOrig    0\n",
       "nameDest          0\n",
       "oldbalanceDest    0\n",
       "newbalanceDest    0\n",
       "isFraud           0\n",
       "isFlaggedFraud    0\n",
       "dtype: int64"
      ]
     },
     "execution_count": 4,
     "metadata": {},
     "output_type": "execute_result"
    }
   ],
   "source": [
    "data.isna().sum()"
   ]
  },
  {
   "cell_type": "code",
   "execution_count": 5,
   "metadata": {},
   "outputs": [
    {
     "data": {
      "text/plain": [
       "step                int64\n",
       "type               object\n",
       "amount            float64\n",
       "nameOrig           object\n",
       "oldbalanceOrg     float64\n",
       "newbalanceOrig    float64\n",
       "nameDest           object\n",
       "oldbalanceDest    float64\n",
       "newbalanceDest    float64\n",
       "isFraud             int64\n",
       "isFlaggedFraud      int64\n",
       "dtype: object"
      ]
     },
     "execution_count": 5,
     "metadata": {},
     "output_type": "execute_result"
    }
   ],
   "source": [
    "data.dtypes"
   ]
  },
  {
   "cell_type": "code",
   "execution_count": 6,
   "metadata": {},
   "outputs": [
    {
     "data": {
      "text/plain": [
       "CASH_OUT    35213\n",
       "PAYMENT     33814\n",
       "CASH_IN     21841\n",
       "TRANSFER     8487\n",
       "DEBIT         645\n",
       "Name: type, dtype: int64"
      ]
     },
     "execution_count": 6,
     "metadata": {},
     "output_type": "execute_result"
    }
   ],
   "source": [
    "#check number of unique entries for type of transaction\n",
    "data[\"type\"].value_counts()"
   ]
  },
  {
   "cell_type": "code",
   "execution_count": 7,
   "metadata": {},
   "outputs": [
    {
     "data": {
      "text/html": [
       "<div>\n",
       "<style scoped>\n",
       "    .dataframe tbody tr th:only-of-type {\n",
       "        vertical-align: middle;\n",
       "    }\n",
       "\n",
       "    .dataframe tbody tr th {\n",
       "        vertical-align: top;\n",
       "    }\n",
       "\n",
       "    .dataframe thead th {\n",
       "        text-align: right;\n",
       "    }\n",
       "</style>\n",
       "<table border=\"1\" class=\"dataframe\">\n",
       "  <thead>\n",
       "    <tr style=\"text-align: right;\">\n",
       "      <th></th>\n",
       "      <th>step</th>\n",
       "      <th>amount</th>\n",
       "      <th>oldbalanceOrg</th>\n",
       "      <th>newbalanceOrig</th>\n",
       "      <th>oldbalanceDest</th>\n",
       "      <th>newbalanceDest</th>\n",
       "      <th>isFraud</th>\n",
       "      <th>isFlaggedFraud</th>\n",
       "    </tr>\n",
       "  </thead>\n",
       "  <tbody>\n",
       "    <tr>\n",
       "      <th>count</th>\n",
       "      <td>100000.000000</td>\n",
       "      <td>1.000000e+05</td>\n",
       "      <td>1.000000e+05</td>\n",
       "      <td>1.000000e+05</td>\n",
       "      <td>1.000000e+05</td>\n",
       "      <td>1.000000e+05</td>\n",
       "      <td>100000.000000</td>\n",
       "      <td>100000.0</td>\n",
       "    </tr>\n",
       "    <tr>\n",
       "      <th>mean</th>\n",
       "      <td>243.693140</td>\n",
       "      <td>1.793482e+05</td>\n",
       "      <td>8.296462e+05</td>\n",
       "      <td>8.504271e+05</td>\n",
       "      <td>1.095681e+06</td>\n",
       "      <td>1.220233e+06</td>\n",
       "      <td>0.001140</td>\n",
       "      <td>0.0</td>\n",
       "    </tr>\n",
       "    <tr>\n",
       "      <th>std</th>\n",
       "      <td>141.882501</td>\n",
       "      <td>5.678913e+05</td>\n",
       "      <td>2.885250e+06</td>\n",
       "      <td>2.921021e+06</td>\n",
       "      <td>3.165612e+06</td>\n",
       "      <td>3.440483e+06</td>\n",
       "      <td>0.033745</td>\n",
       "      <td>0.0</td>\n",
       "    </tr>\n",
       "    <tr>\n",
       "      <th>min</th>\n",
       "      <td>1.000000</td>\n",
       "      <td>8.700000e-01</td>\n",
       "      <td>0.000000e+00</td>\n",
       "      <td>0.000000e+00</td>\n",
       "      <td>0.000000e+00</td>\n",
       "      <td>0.000000e+00</td>\n",
       "      <td>0.000000</td>\n",
       "      <td>0.0</td>\n",
       "    </tr>\n",
       "    <tr>\n",
       "      <th>25%</th>\n",
       "      <td>156.000000</td>\n",
       "      <td>1.338312e+04</td>\n",
       "      <td>0.000000e+00</td>\n",
       "      <td>0.000000e+00</td>\n",
       "      <td>0.000000e+00</td>\n",
       "      <td>0.000000e+00</td>\n",
       "      <td>0.000000</td>\n",
       "      <td>0.0</td>\n",
       "    </tr>\n",
       "    <tr>\n",
       "      <th>50%</th>\n",
       "      <td>240.000000</td>\n",
       "      <td>7.559514e+04</td>\n",
       "      <td>1.404150e+04</td>\n",
       "      <td>0.000000e+00</td>\n",
       "      <td>1.344735e+05</td>\n",
       "      <td>2.134635e+05</td>\n",
       "      <td>0.000000</td>\n",
       "      <td>0.0</td>\n",
       "    </tr>\n",
       "    <tr>\n",
       "      <th>75%</th>\n",
       "      <td>335.000000</td>\n",
       "      <td>2.100297e+05</td>\n",
       "      <td>1.076995e+05</td>\n",
       "      <td>1.452365e+05</td>\n",
       "      <td>9.452275e+05</td>\n",
       "      <td>1.114362e+06</td>\n",
       "      <td>0.000000</td>\n",
       "      <td>0.0</td>\n",
       "    </tr>\n",
       "    <tr>\n",
       "      <th>max</th>\n",
       "      <td>743.000000</td>\n",
       "      <td>3.405129e+07</td>\n",
       "      <td>3.636535e+07</td>\n",
       "      <td>3.667630e+07</td>\n",
       "      <td>2.313304e+08</td>\n",
       "      <td>2.320366e+08</td>\n",
       "      <td>1.000000</td>\n",
       "      <td>0.0</td>\n",
       "    </tr>\n",
       "  </tbody>\n",
       "</table>\n",
       "</div>"
      ],
      "text/plain": [
       "                step        amount  oldbalanceOrg  newbalanceOrig  \\\n",
       "count  100000.000000  1.000000e+05   1.000000e+05    1.000000e+05   \n",
       "mean      243.693140  1.793482e+05   8.296462e+05    8.504271e+05   \n",
       "std       141.882501  5.678913e+05   2.885250e+06    2.921021e+06   \n",
       "min         1.000000  8.700000e-01   0.000000e+00    0.000000e+00   \n",
       "25%       156.000000  1.338312e+04   0.000000e+00    0.000000e+00   \n",
       "50%       240.000000  7.559514e+04   1.404150e+04    0.000000e+00   \n",
       "75%       335.000000  2.100297e+05   1.076995e+05    1.452365e+05   \n",
       "max       743.000000  3.405129e+07   3.636535e+07    3.667630e+07   \n",
       "\n",
       "       oldbalanceDest  newbalanceDest        isFraud  isFlaggedFraud  \n",
       "count    1.000000e+05    1.000000e+05  100000.000000        100000.0  \n",
       "mean     1.095681e+06    1.220233e+06       0.001140             0.0  \n",
       "std      3.165612e+06    3.440483e+06       0.033745             0.0  \n",
       "min      0.000000e+00    0.000000e+00       0.000000             0.0  \n",
       "25%      0.000000e+00    0.000000e+00       0.000000             0.0  \n",
       "50%      1.344735e+05    2.134635e+05       0.000000             0.0  \n",
       "75%      9.452275e+05    1.114362e+06       0.000000             0.0  \n",
       "max      2.313304e+08    2.320366e+08       1.000000             0.0  "
      ]
     },
     "execution_count": 7,
     "metadata": {},
     "output_type": "execute_result"
    }
   ],
   "source": [
    "data.describe()"
   ]
  },
  {
   "cell_type": "code",
   "execution_count": 8,
   "metadata": {},
   "outputs": [
    {
     "data": {
      "text/plain": [
       "0    100000\n",
       "Name: isFlaggedFraud, dtype: int64"
      ]
     },
     "execution_count": 8,
     "metadata": {},
     "output_type": "execute_result"
    }
   ],
   "source": [
    "data[\"isFlaggedFraud\"].value_counts()"
   ]
  },
  {
   "cell_type": "code",
   "execution_count": 9,
   "metadata": {},
   "outputs": [
    {
     "data": {
      "text/plain": [
       "<matplotlib.axes._subplots.AxesSubplot at 0x7f86948deda0>"
      ]
     },
     "execution_count": 9,
     "metadata": {},
     "output_type": "execute_result"
    },
    {
     "data": {
      "image/png": "[encoded data removed]",
      "text/plain": [
       "<Figure size 864x432 with 2 Axes>"
      ]
     },
     "metadata": {
      "needs_background": "dark"
     },
     "output_type": "display_data"
    }
   ],
   "source": [
    "#correlation and heatmap use pearson cause no ordinal variables\n",
    "corr = data.corr(method=\"pearson\")\n",
    "fig = plt.figure(figsize=(12,6))\n",
    "sns.heatmap(corr,annot=True)"
   ]
  },
  {
   "cell_type": "code",
   "execution_count": 10,
   "metadata": {},
   "outputs": [
    {
     "data": {
      "text/plain": [
       "'\\nThe most important features to predict the outcome (=isFraud) should be (type) of transaction,\\nbut also (amount) and (oldbalanceOrig) OR (newbalanceOrig) as well as one of the 2 between \\n(oldbalanceDest) and (newbalanceDest). Regarding these last four, given the high correlation \\ndisplayed with one another, 2 of them can be dropped.\\n'"
      ]
     },
     "execution_count": 10,
     "metadata": {},
     "output_type": "execute_result"
    }
   ],
   "source": [
    "\"\"\"\n",
    "The most important features to predict the outcome (=isFraud) should be (type) of transaction,\n",
    "but also (amount) and (oldbalanceOrig) OR (newbalanceOrig) as well as one of the 2 between \n",
    "(oldbalanceDest) and (newbalanceDest). Regarding these last four, given the high correlation \n",
    "displayed with one another, 2 of them can be dropped.\n",
    "\"\"\""
   ]
  },
  {
   "cell_type": "markdown",
   "metadata": {},
   "source": [
    "### What is the distribution of the outcome? "
   ]
  },
  {
   "cell_type": "code",
   "execution_count": 11,
   "metadata": {},
   "outputs": [
    {
     "data": {
      "text/plain": [
       "0    99.886\n",
       "1     0.114\n",
       "Name: isFraud, dtype: float64"
      ]
     },
     "execution_count": 11,
     "metadata": {},
     "output_type": "execute_result"
    }
   ],
   "source": [
    "# Your response here\n",
    "data[\"isFraud\"].value_counts() / data.shape[0] * 100\n",
    "\n",
    "# Outcome is binary - Bernoulli/binomial distribution\n",
    "# Observations are not evenly distributed among the two possible values\n",
    "# 99.87 of the results are concentrated on outcome 0"
   ]
  },
  {
   "cell_type": "code",
   "execution_count": null,
   "metadata": {},
   "outputs": [],
   "source": []
  },
  {
   "cell_type": "code",
   "execution_count": 12,
   "metadata": {},
   "outputs": [
    {
     "name": "stdout",
     "output_type": "stream",
     "text": [
      "Power_divergenceResult(statistic=922.4012787530613, pvalue=1.3247008678719658e-202)\n"
     ]
    }
   ],
   "source": [
    "# Test for Binomial distribution\n",
    "p = (data[\"isFraud\"].value_counts() / data.shape[0])[1]#probability of Fraud (isFraud = 1)\n",
    "n = 10 #size of sample for test of distribution\n",
    "val = np.array([0,1]) #number of possible outcomes of the variable isFraud\n",
    "obs = np.array([i for i in data[\"isFraud\"].value_counts()]) #observed frequency of the outcomes\n",
    "# of variable isFraud\n",
    "prob_tot  = st.binom.pmf(val,n,p)#Binomial prob distribution based on shape parameters observed\n",
    "exp = prob_tot * np.sum(obs) #Expected frequency of the ouctomes of variable isFraud\n",
    "\n",
    "print(st.chisquare(f_obs=obs, f_exp=exp)) # print result of chisquare test\n",
    "\n",
    "\n"
   ]
  },
  {
   "cell_type": "code",
   "execution_count": 13,
   "metadata": {},
   "outputs": [
    {
     "data": {
      "text/plain": [
       "'\\nGiven a sample of 10 observations, we actually reject the Null HP for which the outcome \\n(isFraud) follows a binomial distribution\\n'"
      ]
     },
     "execution_count": 13,
     "metadata": {},
     "output_type": "execute_result"
    }
   ],
   "source": [
    "\"\"\"\n",
    "Given a sample of 10 observations, we actually reject the Null HP for which the outcome \n",
    "(isFraud) follows a binomial distribution\n",
    "\"\"\""
   ]
  },
  {
   "cell_type": "markdown",
   "metadata": {},
   "source": [
    "### Clean the dataset. How are you going to integrate the time variable? Do you think the step (integer) coding in which it is given is appropriate?"
   ]
  },
  {
   "cell_type": "code",
   "execution_count": 14,
   "metadata": {},
   "outputs": [
    {
     "data": {
      "text/plain": [
       "' step is ok, represents numeber of hours between transactions in numeric format, like timestamp'"
      ]
     },
     "execution_count": 14,
     "metadata": {},
     "output_type": "execute_result"
    }
   ],
   "source": [
    "\"\"\" step is ok, represents numeber of hours between transactions in numeric format, like timestamp\"\"\""
   ]
  },
  {
   "cell_type": "code",
   "execution_count": 15,
   "metadata": {},
   "outputs": [],
   "source": [
    "# Your code here\n",
    "data.drop([\"nameOrig\", \"nameDest\"], axis=1, inplace=True)#Drop encoded names, not relevant\n",
    "data[\"deltabalanceOrg\"] = data[\"newbalanceOrig\"] - data[\"oldbalanceOrg\"] #aggregate columns to\n",
    "#avoid correlation for balanceOrg\n",
    "data[\"deltabalanceDest\"] = data[\"newbalanceDest\"] - data[\"oldbalanceDest\"] #aggregate columns to\n",
    "#avoid correlation for balanceDest\n",
    "data.drop([\"oldbalanceOrg\", \"newbalanceOrig\",\"oldbalanceDest\",\"newbalanceDest\"], axis=1, inplace=True)\n",
    "#drop balance columns once aggregated"
   ]
  },
  {
   "cell_type": "code",
   "execution_count": 16,
   "metadata": {},
   "outputs": [],
   "source": [
    "# Transform type to dummy variables\n",
    "type_encoded = pd.get_dummies(data[\"type\"])\n",
    "data = pd.concat([data,type_encoded], axis=1)\n",
    "data.drop(\"type\", axis=1, inplace=True)"
   ]
  },
  {
   "cell_type": "code",
   "execution_count": 17,
   "metadata": {},
   "outputs": [
    {
     "data": {
      "text/html": [
       "<div>\n",
       "<style scoped>\n",
       "    .dataframe tbody tr th:only-of-type {\n",
       "        vertical-align: middle;\n",
       "    }\n",
       "\n",
       "    .dataframe tbody tr th {\n",
       "        vertical-align: top;\n",
       "    }\n",
       "\n",
       "    .dataframe thead th {\n",
       "        text-align: right;\n",
       "    }\n",
       "</style>\n",
       "<table border=\"1\" class=\"dataframe\">\n",
       "  <thead>\n",
       "    <tr style=\"text-align: right;\">\n",
       "      <th></th>\n",
       "      <th>step</th>\n",
       "      <th>amount</th>\n",
       "      <th>isFraud</th>\n",
       "      <th>isFlaggedFraud</th>\n",
       "      <th>deltabalanceOrg</th>\n",
       "      <th>deltabalanceDest</th>\n",
       "      <th>CASH_IN</th>\n",
       "      <th>CASH_OUT</th>\n",
       "      <th>DEBIT</th>\n",
       "      <th>PAYMENT</th>\n",
       "      <th>TRANSFER</th>\n",
       "    </tr>\n",
       "  </thead>\n",
       "  <tbody>\n",
       "    <tr>\n",
       "      <th>20</th>\n",
       "      <td>1</td>\n",
       "      <td>1373.43</td>\n",
       "      <td>0</td>\n",
       "      <td>0</td>\n",
       "      <td>-1373.43</td>\n",
       "      <td>0.00</td>\n",
       "      <td>0</td>\n",
       "      <td>0</td>\n",
       "      <td>0</td>\n",
       "      <td>1</td>\n",
       "      <td>0</td>\n",
       "    </tr>\n",
       "    <tr>\n",
       "      <th>90</th>\n",
       "      <td>1</td>\n",
       "      <td>358831.92</td>\n",
       "      <td>0</td>\n",
       "      <td>0</td>\n",
       "      <td>0.00</td>\n",
       "      <td>2945718.56</td>\n",
       "      <td>0</td>\n",
       "      <td>0</td>\n",
       "      <td>0</td>\n",
       "      <td>0</td>\n",
       "      <td>1</td>\n",
       "    </tr>\n",
       "    <tr>\n",
       "      <th>238</th>\n",
       "      <td>1</td>\n",
       "      <td>5946.79</td>\n",
       "      <td>0</td>\n",
       "      <td>0</td>\n",
       "      <td>-5946.79</td>\n",
       "      <td>0.00</td>\n",
       "      <td>0</td>\n",
       "      <td>0</td>\n",
       "      <td>0</td>\n",
       "      <td>1</td>\n",
       "      <td>0</td>\n",
       "    </tr>\n",
       "    <tr>\n",
       "      <th>526</th>\n",
       "      <td>1</td>\n",
       "      <td>95636.49</td>\n",
       "      <td>0</td>\n",
       "      <td>0</td>\n",
       "      <td>0.00</td>\n",
       "      <td>1004226.81</td>\n",
       "      <td>0</td>\n",
       "      <td>1</td>\n",
       "      <td>0</td>\n",
       "      <td>0</td>\n",
       "      <td>0</td>\n",
       "    </tr>\n",
       "    <tr>\n",
       "      <th>545</th>\n",
       "      <td>1</td>\n",
       "      <td>3943.17</td>\n",
       "      <td>0</td>\n",
       "      <td>0</td>\n",
       "      <td>-3943.18</td>\n",
       "      <td>0.00</td>\n",
       "      <td>0</td>\n",
       "      <td>0</td>\n",
       "      <td>0</td>\n",
       "      <td>1</td>\n",
       "      <td>0</td>\n",
       "    </tr>\n",
       "  </tbody>\n",
       "</table>\n",
       "</div>"
      ],
      "text/plain": [
       "     step     amount  isFraud  isFlaggedFraud  deltabalanceOrg  \\\n",
       "20      1    1373.43        0               0         -1373.43   \n",
       "90      1  358831.92        0               0             0.00   \n",
       "238     1    5946.79        0               0         -5946.79   \n",
       "526     1   95636.49        0               0             0.00   \n",
       "545     1    3943.17        0               0         -3943.18   \n",
       "\n",
       "     deltabalanceDest  CASH_IN  CASH_OUT  DEBIT  PAYMENT  TRANSFER  \n",
       "20               0.00        0         0      0        1         0  \n",
       "90         2945718.56        0         0      0        0         1  \n",
       "238              0.00        0         0      0        1         0  \n",
       "526        1004226.81        0         1      0        0         0  \n",
       "545              0.00        0         0      0        1         0  "
      ]
     },
     "execution_count": 17,
     "metadata": {},
     "output_type": "execute_result"
    }
   ],
   "source": [
    "data.sort_index(inplace=True)\n",
    "data.head()\n",
    "#need to reset index"
   ]
  },
  {
   "cell_type": "code",
   "execution_count": 18,
   "metadata": {},
   "outputs": [
    {
     "data": {
      "text/plain": [
       "step                  int64\n",
       "amount              float64\n",
       "isFraud               int64\n",
       "isFlaggedFraud        int64\n",
       "deltabalanceOrg     float64\n",
       "deltabalanceDest    float64\n",
       "CASH_IN               uint8\n",
       "CASH_OUT              uint8\n",
       "DEBIT                 uint8\n",
       "PAYMENT               uint8\n",
       "TRANSFER              uint8\n",
       "dtype: object"
      ]
     },
     "execution_count": 18,
     "metadata": {},
     "output_type": "execute_result"
    }
   ],
   "source": [
    "data.dtypes"
   ]
  },
  {
   "cell_type": "code",
   "execution_count": 19,
   "metadata": {},
   "outputs": [
    {
     "data": {
      "text/plain": [
       "step                0\n",
       "amount              0\n",
       "isFraud             0\n",
       "isFlaggedFraud      0\n",
       "deltabalanceOrg     0\n",
       "deltabalanceDest    0\n",
       "CASH_IN             0\n",
       "CASH_OUT            0\n",
       "DEBIT               0\n",
       "PAYMENT             0\n",
       "TRANSFER            0\n",
       "dtype: int64"
      ]
     },
     "execution_count": 19,
     "metadata": {},
     "output_type": "execute_result"
    }
   ],
   "source": [
    "data.isna().sum()"
   ]
  },
  {
   "cell_type": "markdown",
   "metadata": {},
   "source": [
    "### Run a logisitc regression classifier and evaluate its accuracy."
   ]
  },
  {
   "cell_type": "code",
   "execution_count": 26,
   "metadata": {},
   "outputs": [
    {
     "data": {
      "text/plain": [
       "0.9977"
      ]
     },
     "execution_count": 26,
     "metadata": {},
     "output_type": "execute_result"
    }
   ],
   "source": [
    "# Your code here\n",
    "from sklearn.linear_model import LogisticRegression\n",
    "from sklearn.model_selection import train_test_split\n",
    "\n",
    "X= data.drop([\"isFraud\",\"isFlaggedFraud\"],axis=1)\n",
    "y= data[\"isFraud\"]\n",
    "\n",
    "X_train, X_test, y_train, y_test = train_test_split(X,y,test_size=0.2,random_state = 29)\n",
    "model_log = LogisticRegression().fit(X_train,y_train)\n",
    "model_log.score(X_test,y_test)"
   ]
  },
  {
   "cell_type": "markdown",
   "metadata": {},
   "source": [
    "### Now pick a model of your choice and evaluate its accuracy."
   ]
  },
  {
   "cell_type": "code",
   "execution_count": 27,
   "metadata": {},
   "outputs": [
    {
     "data": {
      "text/plain": [
       "0.999"
      ]
     },
     "execution_count": 27,
     "metadata": {},
     "output_type": "execute_result"
    }
   ],
   "source": [
    "# Your code here\n",
    "from sklearn.neighbors import KNeighborsClassifier\n",
    "\n",
    "model_knn = KNeighborsClassifier().fit(X_train, y_train)\n",
    "model_knn.score(X_test, y_test)"
   ]
  },
  {
   "cell_type": "markdown",
   "metadata": {},
   "source": [
    "### Which model worked better and how do you know?"
   ]
  },
  {
   "cell_type": "code",
   "execution_count": 31,
   "metadata": {},
   "outputs": [
    {
     "name": "stdout",
     "output_type": "stream",
     "text": [
      "[0.9517  0.9991  0.99905 0.999   0.99885] \n",
      " 0.9895400000000001\n"
     ]
    }
   ],
   "source": [
    "# Your response here\n",
    "from sklearn.model_selection import cross_val_score\n",
    "\n",
    "cv_results_log = cross_val_score(model_log, X, y, cv=5)\n",
    "print(cv_results_log, \"\\n\", np.mean(cv_results_log))"
   ]
  },
  {
   "cell_type": "code",
   "execution_count": 32,
   "metadata": {},
   "outputs": [
    {
     "name": "stdout",
     "output_type": "stream",
     "text": [
      "[0.9984  0.99955 0.99925 0.99925 0.99945] \n",
      " 0.99918\n"
     ]
    }
   ],
   "source": [
    "cv_results_knn = cross_val_score(model_knn, X, y, cv=5)\n",
    "print(cv_results_knn, \"\\n\", np.mean(cv_results_knn))"
   ]
  },
  {
   "cell_type": "code",
   "execution_count": null,
   "metadata": {},
   "outputs": [],
   "source": [
    "\"\"\"\n",
    "Average score of knn after Cross Validation is higher than average score of log, so knn works\n",
    "better. However:\n",
    "# All accuracy scores are high because of the inbalance in the data. 99.87% of the observations\n",
    "# concern non-fraudulent exchanges. Given this data, a model that always predicts \"no fraud\" will\n",
    "# still have an accuracy above 99%. To properly train the model and have a better representation\n",
    "# of its accuracy in predicting frauds, I would need more observations of fraudulent exchanges,\n",
    "# in equal proportion to the non-fraudulent ones.\n",
    "\n",
    "# Other solutions:\n",
    "# - Change the performance metric to precision, recall or F1. Also study the confusion matrix\n",
    "# - Change the algorithm to a Decision Tree, which is more tolerant of inbalanced data\n",
    "# - Oversample the minority data: create copies of the cases of fraud until they are proportional to non-frauds\n",
    "# - Undersample the majority data: analyse only a subset of the non-fraud cases\n",
    "# - Generate synthetic samples of fraud (for example with imblearn's SMOTE)\n",
    "\"\"\""
   ]
  },
  {
   "cell_type": "code",
   "execution_count": 35,
   "metadata": {},
   "outputs": [
    {
     "name": "stdout",
     "output_type": "stream",
     "text": [
      "Confusion matrix, without normalization\n",
      "[[19947    27]\n",
      " [   19     7]]\n",
      "Normalized confusion matrix\n",
      "[[0.99864824 0.00135176]\n",
      " [0.73076923 0.26923077]]\n"
     ]
    },
    {
     "data": {
      "image/png": "[encoded data removed]",
      "text/plain": [
       "<Figure size 432x288 with 2 Axes>"
      ]
     },
     "metadata": {
      "needs_background": "dark"
     },
     "output_type": "display_data"
    },
    {
     "data": {
      "image/png": "[encoded data removed]",
      "text/plain": [
       "<Figure size 432x288 with 2 Axes>"
      ]
     },
     "metadata": {
      "needs_background": "dark"
     },
     "output_type": "display_data"
    }
   ],
   "source": [
    "from sklearn.metrics import plot_confusion_matrix\n",
    "\n",
    "# Plot non-normalized confusion matrix\n",
    "titles_options = [(\"Confusion matrix, without normalization\", None),\n",
    "                  (\"Normalized confusion matrix\", 'true')]\n",
    "for title, normalize in titles_options:\n",
    "    disp = plot_confusion_matrix(model_log, X_test, y_test, normalize=normalize)\n",
    "    disp.ax_.set_title(title)\n",
    "    \n",
    "    print(title)\n",
    "    print(disp.confusion_matrix)\n",
    "\n",
    "plt.show()"
   ]
  },
  {
   "cell_type": "code",
   "execution_count": 36,
   "metadata": {},
   "outputs": [
    {
     "name": "stdout",
     "output_type": "stream",
     "text": [
      "Confusion matrix, without normalization\n",
      "[[19971     3]\n",
      " [   17     9]]\n",
      "Normalized confusion matrix\n",
      "[[9.99849805e-01 1.50195254e-04]\n",
      " [6.53846154e-01 3.46153846e-01]]\n"
     ]
    },
    {
     "data": {
      "image/png": "[encoded data removed]",
      "text/plain": [
       "<Figure size 432x288 with 2 Axes>"
      ]
     },
     "metadata": {
      "needs_background": "dark"
     },
     "output_type": "display_data"
    },
    {
     "data": {
      "image/png": "[encoded data removed]",
      "text/plain": [
       "<Figure size 432x288 with 2 Axes>"
      ]
     },
     "metadata": {
      "needs_background": "dark"
     },
     "output_type": "display_data"
    }
   ],
   "source": [
    "titles_options = [(\"Confusion matrix, without normalization\", None),\n",
    "                  (\"Normalized confusion matrix\", 'true')]\n",
    "for title, normalize in titles_options:\n",
    "    disp = plot_confusion_matrix(model_knn, X_test, y_test, normalize=normalize)\n",
    "    disp.ax_.set_title(title)\n",
    "    \n",
    "    print(title)\n",
    "    print(disp.confusion_matrix)"
   ]
  },
  {
   "cell_type": "markdown",
   "metadata": {},
   "source": [
    "### Note: before doing the first commit, make sure you don't include the large csv file, either by adding it to .gitignore, or by deleting it."
   ]
  }
 ],
 "metadata": {
  "kernelspec": {
   "display_name": "Python 3",
   "language": "python",
   "name": "python3"
  },
  "language_info": {
   "codemirror_mode": {
    "name": "ipython",
    "version": 3
   },
   "file_extension": ".py",
   "mimetype": "text/x-python",
   "name": "python",
   "nbconvert_exporter": "python",
   "pygments_lexer": "ipython3",
   "version": "3.6.9"
  }
 },
 "nbformat": 4,
 "nbformat_minor": 2
}
